{
  "cells": [
    {
      "cell_type": "markdown",
      "metadata": {
        "id": "cIg6enKVhhi4"
      },
      "source": [
        "\n",
        "\n",
        "## **COMP6685 Deep Learning Coursework A1**\n",
        "\n",
        "\n",
        "Individual (50% of total mark)\n",
        "\n",
        "\n",
        "**TASK:**\tYou are required to develop a phyton code with appropriate comments and answer questions.\n",
        "\n",
        "**Description**: Create a code using this temlate to train a Convolutional Neural Network (CNN) on the fashion MNIST dataset available at https://keras.io/api/datasets/fashion_mnist/ . \n",
        "\n",
        "Fashion MNIST is a dataset of 60,000 28x28 grayscale images of 10 fashion categories, along with a test set of 10,000 images.\n",
        "\n",
        "The dataset should be imported in the code and one sample image should be visualised before applying the model.\n",
        "\n",
        "Define a CNN and comment the chosen parameters of the network. Apply a regularization method (L1, L2 or L1L2). Divide the dataset into training, validation and test set. Obtain the accuracy on the validation set and plot the final results using the data from the test set. Comment your lines of code appropriately to explain your solution.\n",
        "\n",
        "Enhance the model's performance to obtain the best or optimal validation accuracy. Further questions about final remarks on the results will be answered on the markdown defined in the template.\n",
        "\n",
        "---\n",
        "---\n",
        "\n",
        "Note: This is only a template. You can add more code/text cells if necessary."
      ]
    },
    {
      "cell_type": "code",
      "execution_count": 1,
      "metadata": {
        "id": "FkERIusYhcK6"
      },
      "outputs": [],
      "source": [
        "## import data from at \n",
        "import numpy as np\n",
        "from tensorflow import keras\n",
        "from tensorflow.keras import layers\n",
        "from sklearn.model_selection import KFold\n",
        "import matplotlib.pyplot as plt"
      ]
    },
    {
      "cell_type": "code",
      "execution_count": 37,
      "metadata": {},
      "outputs": [],
      "source": [
        "labels = [\n",
        "    {0, \"T-shirt/top\"}, \n",
        "    {1, \"Trouser\"}, \n",
        "    {2, \"Pullover\"},\n",
        "    {3,\"Dress\"},\n",
        "    {4, \"Coat\"},\n",
        "    {5, \"Sandal\"},\n",
        "    {6, \"Shirt\"},\n",
        "    {7, \"Sneaker\"},\n",
        "    {8, \"Bag\"},\n",
        "    {9, \"Ankle boot\"}\n",
        "]\n",
        "\n",
        "# PDF paper https://bhu.ac.in/research_pub/jsr/Volumes/JSR_64_02_2020/51.pdf"
      ]
    },
    {
      "attachments": {},
      "cell_type": "markdown",
      "metadata": {
        "id": "qysRQbvOm1c4"
      },
      "source": [
        "Import the dataset and divide it appropriately into sets for cross-validation. **(10 marks)**\n",
        "\n",
        "---"
      ]
    },
    {
      "cell_type": "code",
      "execution_count": 2,
      "metadata": {
        "id": "tV9PO1GBl5_6"
      },
      "outputs": [],
      "source": [
        "# Load dataset\n",
        "(fashion_train_images, fashion_train_labels), (fashion_test_images, fashion_test_labels) = keras.datasets.fashion_mnist.load_data()\n",
        "\n",
        "# Normalize pixel values to be between 0 and 1\n",
        "fashion_train_images, fashion_test_images = fashion_train_images / 255, fashion_test_images / 255\n",
        "\n",
        "# Reshape images to fit the model input requirement\n",
        "fashion_train_images = fashion_train_images.reshape((fashion_train_images.shape[0], 28, 28, 1))\n",
        "fashion_test_images = fashion_test_images.reshape((fashion_test_images.shape[0], 28, 28, 1))\n",
        "\n",
        "# One-hot encode the labels\n",
        "fashion_train_labels = keras.utils.to_categorical(fashion_train_labels)\n",
        "fashion_test_labels = keras.utils.to_categorical(fashion_test_labels)"
      ]
    },
    {
      "attachments": {},
      "cell_type": "markdown",
      "metadata": {},
      "source": [
        "*your answer here*"
      ]
    },
    {
      "attachments": {},
      "cell_type": "markdown",
      "metadata": {
        "id": "2-xHphsvmG7F"
      },
      "source": [
        "Visualise a random sample image of the dataset. **(5 marks)**\n",
        "\n",
        "---"
      ]
    },
    {
      "cell_type": "code",
      "execution_count": 49,
      "metadata": {
        "id": "bTTrIN_nnDWK"
      },
      "outputs": [
        {
          "data": {
            "image/png": "[encoded data removed]",
            "text/plain": [
              "<Figure size 200x200 with 1 Axes>"
            ]
          },
          "metadata": {},
          "output_type": "display_data"
        },
        {
          "data": {
            "image/png": "[encoded data removed]",
            "text/plain": [
              "<Figure size 200x200 with 1 Axes>"
            ]
          },
          "metadata": {},
          "output_type": "display_data"
        },
        {
          "data": {
            "image/png": "[encoded data removed]",
            "text/plain": [
              "<Figure size 200x200 with 1 Axes>"
            ]
          },
          "metadata": {},
          "output_type": "display_data"
        },
        {
          "data": {
            "image/png": "[encoded data removed]",
            "text/plain": [
              "<Figure size 200x200 with 1 Axes>"
            ]
          },
          "metadata": {},
          "output_type": "display_data"
        },
        {
          "data": {
            "image/png": "[encoded data removed]",
            "text/plain": [
              "<Figure size 200x200 with 1 Axes>"
            ]
          },
          "metadata": {},
          "output_type": "display_data"
        },
        {
          "data": {
            "image/png": "[encoded data removed]",
            "text/plain": [
              "<Figure size 200x200 with 1 Axes>"
            ]
          },
          "metadata": {},
          "output_type": "display_data"
        },
        {
          "data": {
            "image/png": "[encoded data removed]",
            "text/plain": [
              "<Figure size 200x200 with 1 Axes>"
            ]
          },
          "metadata": {},
          "output_type": "display_data"
        },
        {
          "data": {
            "image/png": "[encoded data removed]",
            "text/plain": [
              "<Figure size 200x200 with 1 Axes>"
            ]
          },
          "metadata": {},
          "output_type": "display_data"
        },
        {
          "data": {
            "image/png": "[encoded data removed]",
            "text/plain": [
              "<Figure size 200x200 with 1 Axes>"
            ]
          },
          "metadata": {},
          "output_type": "display_data"
        },
        {
          "data": {
            "image/png": "[encoded data removed]",
            "text/plain": [
              "<Figure size 200x200 with 1 Axes>"
            ]
          },
          "metadata": {},
          "output_type": "display_data"
        }
      ],
      "source": [
        "# Visualize one random sample from the dataset\n",
        "def visualize_sample():\n",
        "    plt.figure(figsize=(2,2))\n",
        "    random_index = np.random.choice(fashion_train_images.shape[0])\n",
        "    plt.imshow(fashion_train_images[random_index].reshape(28,28), cmap='gray')\n",
        "    plt.axis('off')\n",
        "    plt.show()\n",
        "    \n",
        "for i in range(10):\n",
        "    visualize_sample()\n"
      ]
    },
    {
      "cell_type": "markdown",
      "metadata": {
        "id": "lMhGFcimoUwz"
      },
      "source": [
        "Define your CNN model. Specify the network and training parameters and comment them. **(10 marks)**\n",
        "\n",
        "---"
      ]
    },
    {
      "cell_type": "code",
      "execution_count": 15,
      "metadata": {
        "id": "urupEGOFooUz"
      },
      "outputs": [],
      "source": [
        "class CNN: \n",
        "    def create(optimizer='adam', input_shape, classes):\n",
        "        \n",
        "        model = keras.Sequential()\n",
        "        # Convolutional layer with L2 regularization        \n",
        "        model.add(layers.Conv2D(32, kernel_size=(3, 3), input_shape=input_shape, kernel_regularizer=keras.regularizers.l2(0.001)))\n",
        "        model.add(layers.Activation('relu'))\n",
        "        model.add(layers.MaxPooling2D(pool_size=(2, 2)))\n",
        "        \n",
        "        # Another convolutional layer\n",
        "        model.add(layers.Conv2D(64, kernel_size=(3, 3), kernel_regularizer=keras.regularizers.l2(0.001)))\n",
        "        model.add(layers.Activation('relu'))\n",
        "        model.add(layers.MaxPooling2D(pool_size=(2, 2)))\n",
        "        \n",
        "        # Flatten the output of the conv layers to feed into the dense layer\n",
        "        model.add(layers.Flatten())\n",
        "        model.add(layers.Dense(128))\n",
        "        model.add(layers.Activation(\"relu\"))\n",
        "        \n",
        "        # Output layer with softmax for multi-class classification\n",
        "        model.add(layers.Dense(classes))\n",
        "        model.add(layers.Activation(\"softmax\"))\n",
        "        \n",
        "        model.compile(optimizer, loss='categorical_crossentropy', metrics=['accuracy'])\n",
        "        return model\n",
        "\n",
        "# your code here\n",
        "\n"
      ]
    },
    {
      "attachments": {},
      "cell_type": "markdown",
      "metadata": {
        "id": "csCYqn-9pDuJ"
      },
      "source": [
        "Train the CNN model using k-fold cross-validation. **(10 marks)**\n",
        "\n",
        "---"
      ]
    },
    {
      "cell_type": "code",
      "execution_count": 16,
      "metadata": {
        "id": "xESPeCWnpJek"
      },
      "outputs": [
        {
          "name": "stdout",
          "output_type": "stream",
          "text": [
            "Epoch 1/10\n",
            "1500/1500 - 11s - loss: 0.6457 - accuracy: 0.8183 - val_loss: 0.5291 - val_accuracy: 0.8516 - 11s/epoch - 7ms/step\n",
            "Epoch 2/10\n",
            "1500/1500 - 11s - loss: 0.4777 - accuracy: 0.8648 - val_loss: 0.4546 - val_accuracy: 0.8740 - 11s/epoch - 7ms/step\n",
            "Epoch 3/10\n",
            "1500/1500 - 11s - loss: 0.4424 - accuracy: 0.8767 - val_loss: 0.4514 - val_accuracy: 0.8699 - 11s/epoch - 7ms/step\n",
            "Epoch 4/10\n",
            "1500/1500 - 11s - loss: 0.4166 - accuracy: 0.8853 - val_loss: 0.4211 - val_accuracy: 0.8827 - 11s/epoch - 7ms/step\n",
            "Epoch 5/10\n",
            "1500/1500 - 10s - loss: 0.4029 - accuracy: 0.8887 - val_loss: 0.4097 - val_accuracy: 0.8864 - 10s/epoch - 7ms/step\n",
            "Epoch 6/10\n",
            "1500/1500 - 10s - loss: 0.3897 - accuracy: 0.8929 - val_loss: 0.3933 - val_accuracy: 0.8923 - 10s/epoch - 7ms/step\n",
            "Epoch 7/10\n",
            "1500/1500 - 10s - loss: 0.3790 - accuracy: 0.8959 - val_loss: 0.3937 - val_accuracy: 0.8906 - 10s/epoch - 7ms/step\n",
            "Epoch 8/10\n",
            "1500/1500 - 11s - loss: 0.3712 - accuracy: 0.8986 - val_loss: 0.3829 - val_accuracy: 0.8910 - 11s/epoch - 7ms/step\n",
            "Epoch 9/10\n",
            "1500/1500 - 11s - loss: 0.3638 - accuracy: 0.9008 - val_loss: 0.3973 - val_accuracy: 0.8899 - 11s/epoch - 7ms/step\n",
            "Epoch 10/10\n",
            "1500/1500 - 11s - loss: 0.3595 - accuracy: 0.9022 - val_loss: 0.3665 - val_accuracy: 0.8992 - 11s/epoch - 7ms/step\n",
            "Score for fold 1: loss of 0.3664822280406952; accuracy of 89.92499709129333%\n",
            "Epoch 1/10\n",
            "1500/1500 - 11s - loss: 0.6440 - accuracy: 0.8205 - val_loss: 0.5103 - val_accuracy: 0.8590 - 11s/epoch - 7ms/step\n",
            "Epoch 2/10\n",
            "1500/1500 - 10s - loss: 0.4770 - accuracy: 0.8650 - val_loss: 0.4411 - val_accuracy: 0.8777 - 10s/epoch - 7ms/step\n",
            "Epoch 3/10\n",
            "1500/1500 - 10s - loss: 0.4425 - accuracy: 0.8751 - val_loss: 0.4505 - val_accuracy: 0.8721 - 10s/epoch - 7ms/step\n",
            "Epoch 4/10\n",
            "1500/1500 - 10s - loss: 0.4202 - accuracy: 0.8823 - val_loss: 0.4164 - val_accuracy: 0.8864 - 10s/epoch - 7ms/step\n",
            "Epoch 5/10\n",
            "1500/1500 - 11s - loss: 0.4019 - accuracy: 0.8889 - val_loss: 0.4011 - val_accuracy: 0.8905 - 11s/epoch - 7ms/step\n",
            "Epoch 6/10\n",
            "1500/1500 - 10s - loss: 0.3908 - accuracy: 0.8906 - val_loss: 0.3964 - val_accuracy: 0.8890 - 10s/epoch - 7ms/step\n",
            "Epoch 7/10\n",
            "1500/1500 - 11s - loss: 0.3817 - accuracy: 0.8955 - val_loss: 0.3998 - val_accuracy: 0.8878 - 11s/epoch - 7ms/step\n",
            "Epoch 8/10\n",
            "1500/1500 - 11s - loss: 0.3708 - accuracy: 0.8976 - val_loss: 0.4370 - val_accuracy: 0.8742 - 11s/epoch - 7ms/step\n",
            "Epoch 9/10\n",
            "1500/1500 - 11s - loss: 0.3688 - accuracy: 0.8987 - val_loss: 0.3609 - val_accuracy: 0.9033 - 11s/epoch - 7ms/step\n",
            "Epoch 10/10\n",
            "1500/1500 - 11s - loss: 0.3587 - accuracy: 0.9021 - val_loss: 0.3624 - val_accuracy: 0.9003 - 11s/epoch - 7ms/step\n",
            "Score for fold 2: loss of 0.3624473512172699; accuracy of 90.03333449363708%\n",
            "Epoch 1/10\n",
            "1500/1500 - 11s - loss: 0.6362 - accuracy: 0.8183 - val_loss: 0.4952 - val_accuracy: 0.8662 - 11s/epoch - 8ms/step\n",
            "Epoch 2/10\n",
            "1500/1500 - 11s - loss: 0.4719 - accuracy: 0.8665 - val_loss: 0.4983 - val_accuracy: 0.8511 - 11s/epoch - 8ms/step\n",
            "Epoch 3/10\n",
            "1500/1500 - 11s - loss: 0.4393 - accuracy: 0.8761 - val_loss: 0.4094 - val_accuracy: 0.8840 - 11s/epoch - 7ms/step\n",
            "Epoch 4/10\n",
            "1500/1500 - 11s - loss: 0.4148 - accuracy: 0.8821 - val_loss: 0.3974 - val_accuracy: 0.8886 - 11s/epoch - 7ms/step\n",
            "Epoch 5/10\n",
            "1500/1500 - 11s - loss: 0.4008 - accuracy: 0.8878 - val_loss: 0.3945 - val_accuracy: 0.8868 - 11s/epoch - 7ms/step\n",
            "Epoch 6/10\n",
            "1500/1500 - 11s - loss: 0.3877 - accuracy: 0.8910 - val_loss: 0.3945 - val_accuracy: 0.8863 - 11s/epoch - 7ms/step\n",
            "Epoch 7/10\n",
            "1500/1500 - 11s - loss: 0.3807 - accuracy: 0.8945 - val_loss: 0.3788 - val_accuracy: 0.8967 - 11s/epoch - 7ms/step\n",
            "Epoch 8/10\n",
            "1500/1500 - 11s - loss: 0.3710 - accuracy: 0.8979 - val_loss: 0.3699 - val_accuracy: 0.8958 - 11s/epoch - 7ms/step\n",
            "Epoch 9/10\n",
            "1500/1500 - 11s - loss: 0.3634 - accuracy: 0.9002 - val_loss: 0.3685 - val_accuracy: 0.8967 - 11s/epoch - 7ms/step\n",
            "Epoch 10/10\n",
            "1500/1500 - 11s - loss: 0.3606 - accuracy: 0.8999 - val_loss: 0.3598 - val_accuracy: 0.9010 - 11s/epoch - 7ms/step\n",
            "Score for fold 3: loss of 0.35979124903678894; accuracy of 90.10000228881836%\n",
            "Epoch 1/10\n",
            "1500/1500 - 11s - loss: 0.6425 - accuracy: 0.8215 - val_loss: 0.4989 - val_accuracy: 0.8603 - 11s/epoch - 7ms/step\n",
            "Epoch 2/10\n",
            "1500/1500 - 11s - loss: 0.4762 - accuracy: 0.8672 - val_loss: 0.4760 - val_accuracy: 0.8627 - 11s/epoch - 7ms/step\n",
            "Epoch 3/10\n",
            "1500/1500 - 11s - loss: 0.4401 - accuracy: 0.8752 - val_loss: 0.4553 - val_accuracy: 0.8737 - 11s/epoch - 7ms/step\n",
            "Epoch 4/10\n",
            "1500/1500 - 11s - loss: 0.4146 - accuracy: 0.8845 - val_loss: 0.4156 - val_accuracy: 0.8837 - 11s/epoch - 8ms/step\n",
            "Epoch 5/10\n",
            "1500/1500 - 11s - loss: 0.4030 - accuracy: 0.8870 - val_loss: 0.4078 - val_accuracy: 0.8860 - 11s/epoch - 7ms/step\n",
            "Epoch 6/10\n",
            "1500/1500 - 11s - loss: 0.3891 - accuracy: 0.8921 - val_loss: 0.3905 - val_accuracy: 0.8913 - 11s/epoch - 7ms/step\n",
            "Epoch 7/10\n",
            "1500/1500 - 11s - loss: 0.3793 - accuracy: 0.8952 - val_loss: 0.4043 - val_accuracy: 0.8884 - 11s/epoch - 7ms/step\n",
            "Epoch 8/10\n",
            "1500/1500 - 11s - loss: 0.3693 - accuracy: 0.8982 - val_loss: 0.3915 - val_accuracy: 0.8919 - 11s/epoch - 7ms/step\n",
            "Epoch 9/10\n",
            "1500/1500 - 11s - loss: 0.3649 - accuracy: 0.8995 - val_loss: 0.3761 - val_accuracy: 0.8976 - 11s/epoch - 7ms/step\n",
            "Epoch 10/10\n",
            "1500/1500 - 11s - loss: 0.3587 - accuracy: 0.9010 - val_loss: 0.3687 - val_accuracy: 0.9020 - 11s/epoch - 7ms/step\n",
            "Score for fold 4: loss of 0.3687325716018677; accuracy of 90.20000100135803%\n",
            "Epoch 1/10\n",
            "1500/1500 - 11s - loss: 0.6420 - accuracy: 0.8184 - val_loss: 0.4951 - val_accuracy: 0.8618 - 11s/epoch - 7ms/step\n",
            "Epoch 2/10\n",
            "1500/1500 - 11s - loss: 0.4781 - accuracy: 0.8653 - val_loss: 0.4312 - val_accuracy: 0.8827 - 11s/epoch - 7ms/step\n",
            "Epoch 3/10\n",
            "1500/1500 - 11s - loss: 0.4390 - accuracy: 0.8770 - val_loss: 0.4880 - val_accuracy: 0.8554 - 11s/epoch - 7ms/step\n",
            "Epoch 4/10\n",
            "1500/1500 - 11s - loss: 0.4182 - accuracy: 0.8844 - val_loss: 0.4132 - val_accuracy: 0.8823 - 11s/epoch - 7ms/step\n",
            "Epoch 5/10\n",
            "1500/1500 - 11s - loss: 0.4022 - accuracy: 0.8875 - val_loss: 0.4073 - val_accuracy: 0.8845 - 11s/epoch - 8ms/step\n",
            "Epoch 6/10\n",
            "1500/1500 - 11s - loss: 0.3897 - accuracy: 0.8930 - val_loss: 0.3961 - val_accuracy: 0.8902 - 11s/epoch - 7ms/step\n",
            "Epoch 7/10\n",
            "1500/1500 - 11s - loss: 0.3793 - accuracy: 0.8962 - val_loss: 0.3738 - val_accuracy: 0.8976 - 11s/epoch - 7ms/step\n",
            "Epoch 8/10\n",
            "1500/1500 - 10s - loss: 0.3712 - accuracy: 0.8976 - val_loss: 0.3826 - val_accuracy: 0.8911 - 10s/epoch - 7ms/step\n",
            "Epoch 9/10\n",
            "1500/1500 - 10s - loss: 0.3643 - accuracy: 0.8994 - val_loss: 0.3643 - val_accuracy: 0.8991 - 10s/epoch - 7ms/step\n",
            "Epoch 10/10\n",
            "1500/1500 - 10s - loss: 0.3570 - accuracy: 0.9020 - val_loss: 0.3750 - val_accuracy: 0.8968 - 10s/epoch - 7ms/step\n",
            "Score for fold 5: loss of 0.37502697110176086; accuracy of 89.68333601951599%\n"
          ]
        }
      ],
      "source": [
        "# your code here\n",
        "# Prepare k-fold cross-validation\n",
        "FOLDS = 5 # The number of folds to use for k-fold cross-validation\n",
        "EPOCHS = 10 # The number of epochs to train for each fold\n",
        "VERBOSE = 2 # \n",
        "OPTIMIZER = keras.optimizers.legacy.Adam()\n",
        "\n",
        "N_CLASSES = 10\n",
        "IMG_ROWS, IMG_COLS = 28, 28\n",
        "INPUT_SHAPE = (1, IMG_ROWS, IMG_COLS)\n",
        "\n",
        "kfold = KFold(n_splits=FOLDS, shuffle=True)\n",
        "\n",
        "fold_num = 1\n",
        "acc_per_fold = []\n",
        "loss_per_fold = []\n",
        "\n",
        "for train, test in kfold.split(fashion_train_images, fashion_train_labels):\n",
        "    # Create model\n",
        "    model = CNN.create()\n",
        "    \n",
        "    # Fit model\n",
        "    history = model.fit(fashion_train_images[train], fashion_train_labels[train], EPOCHS,  validation_data=(fashion_train_images[test], fashion_train_labels[test]),  verbose=2)\n",
        "    \n",
        "    # Generate generalization metrics\n",
        "    scores = model.evaluate(fashion_train_images[test], fashion_train_labels[test], verbose=0)\n",
        "    print(f'Score for fold {fold_num}: {model.metrics_names[0]} of {scores[0]}; {model.metrics_names[1]} of {scores[1]*100}%')\n",
        "    acc_per_fold.append(scores[1] * 100)\n",
        "    loss_per_fold.append(scores[0])\n",
        "    \n",
        "    fold_num += 1\n"
      ]
    },
    {
      "attachments": {},
      "cell_type": "markdown",
      "metadata": {
        "id": "FFMiFtDCpjMG"
      },
      "source": [
        "Evaluate your model in cross-validation. Calculate and print the loss and accuracy scores in each fold. Print the average cross-validation accuracy and loss your network achieved (in all folds). **(15 marks)**\n"
      ]
    },
    {
      "cell_type": "code",
      "execution_count": 18,
      "metadata": {
        "id": "WnCeV6qP6xmT"
      },
      "outputs": [
        {
          "name": "stdout",
          "output_type": "stream",
          "text": [
            "----------------------------------------------------------------\n",
            "Score per fold\n",
            "----------------------------------------------------------------\n",
            "> Fold 1 - Loss: 0.3664822280406952 - Accuracy: 89.92499709129333%\n",
            "----------------------------------------------------------------\n",
            "> Fold 2 - Loss: 0.3624473512172699 - Accuracy: 90.03333449363708%\n",
            "----------------------------------------------------------------\n",
            "> Fold 3 - Loss: 0.35979124903678894 - Accuracy: 90.10000228881836%\n",
            "----------------------------------------------------------------\n",
            "> Fold 4 - Loss: 0.3687325716018677 - Accuracy: 90.20000100135803%\n",
            "----------------------------------------------------------------\n",
            "> Fold 5 - Loss: 0.37502697110176086 - Accuracy: 89.68333601951599%\n",
            "----------------------------------------------------------------\n",
            "Average scores for all folds:\n",
            "> Accuracy: 89.98833417892456 (+- 0.17682369904669634)\n",
            "> Loss: 0.3664960741996765\n",
            "----------------------------------------------------------------\n"
          ]
        }
      ],
      "source": [
        "# your code here\n",
        "# Print the average scores\n",
        "print('----------------------------------------------------------------')\n",
        "print('Score per fold')\n",
        "for i in range(0, len(acc_per_fold)):\n",
        "    print('----------------------------------------------------------------')\n",
        "    print(f'> Fold {i+1} - Loss: {loss_per_fold[i]} - Accuracy: {acc_per_fold[i]}%')\n",
        "print('----------------------------------------------------------------')\n",
        "print('Average scores for all folds:')\n",
        "print(f'> Accuracy: {np.mean(acc_per_fold)} (+- {np.std(acc_per_fold)})')\n",
        "print(f'> Loss: {np.mean(loss_per_fold)}')\n",
        "print('----------------------------------------------------------------')\n"
      ]
    },
    {
      "cell_type": "markdown",
      "metadata": {
        "id": "4GvX1moIqqm0"
      },
      "source": [
        "*your answer here*"
      ]
    },
    {
      "attachments": {},
      "cell_type": "markdown",
      "metadata": {
        "id": "S48e3kq_qCCi"
      },
      "source": [
        "Plot the final results (accuracy/loss) on the test set in each fold. **(10 marks)**\n",
        "\n",
        "---"
      ]
    },
    {
      "cell_type": "code",
      "execution_count": 50,
      "metadata": {
        "id": "DLLIrvy2psKZ"
      },
      "outputs": [
        {
          "data": {
            "image/png": "[encoded data removed]",
            "text/plain": [
              "<Figure size 1200x500 with 2 Axes>"
            ]
          },
          "metadata": {},
          "output_type": "display_data"
        }
      ],
      "source": [
        "plt.figure(figsize=(12, 5))\n",
        "\n",
        "# Plotting accuracy\n",
        "plt.subplot(1, 2, 1)\n",
        "plt.plot(history.history['accuracy'], label='Training Accuracy')\n",
        "plt.plot(history.history['val_accuracy'], label='Validation Accuracy')\n",
        "plt.title('Accuracy')\n",
        "plt.xlabel('Epoch')\n",
        "plt.ylabel('Accuracy')\n",
        "plt.legend()\n",
        "\n",
        "# Plotting loss\n",
        "plt.subplot(1, 2, 2)\n",
        "plt.plot(history.history['loss'], label='Training Loss')\n",
        "plt.plot(history.history['val_loss'], label='Validation Loss')\n",
        "plt.title('Loss')\n",
        "plt.xlabel('Epoch')\n",
        "plt.ylabel('Loss')\n",
        "plt.legend()\n",
        "\n",
        "plt.show()\n"
      ]
    },
    {
      "cell_type": "markdown",
      "metadata": {
        "id": "ImI7busBrCie"
      },
      "source": [
        "Additional questions:\n",
        "\n",
        "\n",
        "*   Describe whether you found any differences in the network’s accuracy when applying regularisation compared to not applying it. If there were differences, which regularisation did you use? If no differences were found, what could be the reason? **(10 marks)**\n",
        "\n",
        "*your answer here*\n",
        "\n",
        "*   Write your conclusions about the results achieved with your model on the fashion MNIST dataset and ideas to improve these results/performance further. **(10 marks)**\n",
        "\n",
        "*your answer here*\n",
        "\n",
        "---\n",
        "\n"
      ]
    },
    {
      "cell_type": "markdown",
      "metadata": {
        "id": "EcSc_1JiqRA3"
      },
      "source": [
        "Additional remarks:\n",
        "\n",
        "*   Code outline appropriately commented. **(10 marks)**\n",
        "*   Code running without errors. **(10 marks)**\n",
        "\n",
        "---\n",
        "\n"
      ]
    }
  ],
  "metadata": {
    "colab": {
      "provenance": []
    },
    "kernelspec": {
      "display_name": "base",
      "language": "python",
      "name": "python3"
    },
    "language_info": {
      "codemirror_mode": {
        "name": "ipython",
        "version": 3
      },
      "file_extension": ".py",
      "mimetype": "text/x-python",
      "name": "python",
      "nbconvert_exporter": "python",
      "pygments_lexer": "ipython3",
      "version": "3.11.6"
    },
    "vscode": {
      "interpreter": {
        "hash": "d3e7af04d29b7c7f09156ce72bf463dad5c8b45a218773abf1ffb50277174388"
      }
    }
  },
  "nbformat": 4,
  "nbformat_minor": 0
}
