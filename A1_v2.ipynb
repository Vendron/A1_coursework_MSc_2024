{
  "cells": [
    {
      "cell_type": "markdown",
      "metadata": {
        "id": "cIg6enKVhhi4"
      },
      "source": [
        "\n",
        "\n",
        "## **COMP6685 Deep Learning Coursework A1**\n",
        "\n",
        "\n",
        "Individual (50% of total mark)\n",
        "\n",
        "\n",
        "**TASK:**\tYou are required to develop a phyton code with appropriate comments and answer questions.\n",
        "\n",
        "**Description**: Create a code using this temlate to train a Convolutional Neural Network (CNN) on the fashion MNIST dataset available at https://keras.io/api/datasets/fashion_mnist/ . \n",
        "\n",
        "Fashion MNIST is a dataset of 60,000 28x28 grayscale images of 10 fashion categories, along with a test set of 10,000 images.\n",
        "\n",
        "The dataset should be imported in the code and one sample image should be visualised before applying the model.\n",
        "\n",
        "Define a CNN and comment the chosen parameters of the network. Apply a regularization method (L1, L2 or L1L2). Divide the dataset into training, validation and test set. Obtain the accuracy on the validation set and plot the final results using the data from the test set. Comment your lines of code appropriately to explain your solution.\n",
        "\n",
        "Enhance the model's performance to obtain the best or optimal validation accuracy. Further questions about final remarks on the results will be answered on the markdown defined in the template.\n",
        "\n",
        "---\n",
        "---\n",
        "\n",
        "Note: This is only a template. You can add more code/text cells if necessary."
      ]
    },
    {
      "cell_type": "code",
      "execution_count": 5,
      "metadata": {
        "id": "FkERIusYhcK6"
      },
      "outputs": [],
      "source": [
        "## import data from at \n",
        "import numpy as np\n",
        "from tensorflow import keras\n",
        "from tensorflow.keras import layers\n",
        "from sklearn.model_selection import KFold\n",
        "import matplotlib.pyplot as plt"
      ]
    },
    {
      "cell_type": "code",
      "execution_count": 6,
      "metadata": {},
      "outputs": [],
      "source": [
        "labels = [\n",
        "    {0, \"T-shirt/top\"}, \n",
        "    {1, \"Trouser\"}, \n",
        "    {2, \"Pullover\"},\n",
        "    {3,\"Dress\"},\n",
        "    {4, \"Coat\"},\n",
        "    {5, \"Sandal\"},\n",
        "    {6, \"Shirt\"},\n",
        "    {7, \"Sneaker\"},\n",
        "    {8, \"Bag\"},\n",
        "    {9, \"Ankle boot\"}\n",
        "]\n",
        "\n",
        "# PDF paper https://bhu.ac.in/research_pub/jsr/Volumes/JSR_64_02_2020/51.pdf"
      ]
    },
    {
      "attachments": {},
      "cell_type": "markdown",
      "metadata": {
        "id": "qysRQbvOm1c4"
      },
      "source": [
        "Import the dataset and divide it appropriately into sets for cross-validation. **(10 marks)**\n",
        "\n",
        "---"
      ]
    },
    {
      "cell_type": "code",
      "execution_count": 9,
      "metadata": {
        "id": "tV9PO1GBl5_6"
      },
      "outputs": [],
      "source": [
        "# Load dataset\n",
        "(train_images, train_labels), (test_images, test_labels) = keras.datasets.fashion_mnist.load_data()\n",
        "\n",
        "# Normalize pixel values to be between 0 and 1\n",
        "train_images = train_images.astype('float32')\n",
        "test_images = test_images.astype('float32')\n",
        "train_images /=  255 \n",
        "test_images /= 255\n",
        "\n",
        "# Reshape images to fit the model input requirement\n",
        "train_images = train_images.reshape((train_images.shape[0], 28, 28, 1))\n",
        "test_images = test_images.reshape((test_images.shape[0], 28, 28, 1))\n",
        "\n",
        "# One-hot encode the labels\n",
        "train_labels = keras.utils.to_categorical(train_labels)\n",
        "test_labels = keras.utils.to_categorical(test_labels)"
      ]
    },
    {
      "attachments": {},
      "cell_type": "markdown",
      "metadata": {},
      "source": [
        "*your answer here*"
      ]
    },
    {
      "attachments": {},
      "cell_type": "markdown",
      "metadata": {
        "id": "2-xHphsvmG7F"
      },
      "source": [
        "Visualise a random sample image of the dataset. **(5 marks)**\n",
        "\n",
        "---"
      ]
    },
    {
      "cell_type": "code",
      "execution_count": 12,
      "metadata": {
        "id": "bTTrIN_nnDWK"
      },
      "outputs": [
        {
          "data": {
            "image/png": "[encoded data removed]",
            "text/plain": [
              "<Figure size 200x200 with 1 Axes>"
            ]
          },
          "metadata": {},
          "output_type": "display_data"
        }
      ],
      "source": [
        "# Visualize one random sample from the dataset\n",
        "def visualize_sample():\n",
        "    plt.figure(figsize=(2,2))\n",
        "    random_index = np.random.choice(train_images.shape[0])\n",
        "    plt.imshow(train_images[random_index].reshape(28,28), cmap='gray')\n",
        "    plt.axis('off')\n",
        "    plt.show()\n",
        "    \n",
        "visualize_sample()\n"
      ]
    },
    {
      "cell_type": "markdown",
      "metadata": {
        "id": "lMhGFcimoUwz"
      },
      "source": [
        "Define your CNN model. Specify the network and training parameters and comment them. **(10 marks)**\n",
        "\n",
        "---"
      ]
    },
    {
      "cell_type": "code",
      "execution_count": null,
      "metadata": {
        "id": "urupEGOFooUz"
      },
      "outputs": [],
      "source": [
        "class CNN: \n",
        "    @staticmethod\n",
        "    def create(shape, classes, optimizer='adam'):\n",
        "        \n",
        "        model = keras.Sequential()\n",
        "        # Convolutional layer with L2 regularization        \n",
        "        model.add(layers.Conv2D(32, kernel_size=(3, 3), input_shape=shape, kernel_regularizer=keras.regularizers.l2(0.001)))\n",
        "        model.add(layers.Activation('relu'))\n",
        "        model.add(layers.MaxPooling2D(pool_size=(2, 2)))\n",
        "        \n",
        "        # Another convolutional layer\n",
        "        model.add(layers.Conv2D(64, kernel_size=(3, 3), kernel_regularizer=keras.regularizers.l2(0.001)))\n",
        "        model.add(layers.Activation('relu'))\n",
        "        model.add(layers.MaxPooling2D(pool_size=(2, 2)))\n",
        "        \n",
        "        # Flatten the output of the conv layers to feed into the dense layer\n",
        "        model.add(layers.Flatten())\n",
        "        model.add(layers.Dense(128))\n",
        "        model.add(layers.Activation(\"relu\"))\n",
        "        \n",
        "        # Output layer with softmax for multi-class classification\n",
        "        model.add(layers.Dense(classes))\n",
        "        model.add(layers.Activation(\"softmax\"))\n",
        "        \n",
        "        model.compile(optimizer, loss='categorical_crossentropy', metrics=['accuracy'])\n",
        "        return model\n",
        "\n",
        "# your code here\n",
        "\n"
      ]
    },
    {
      "attachments": {},
      "cell_type": "markdown",
      "metadata": {
        "id": "csCYqn-9pDuJ"
      },
      "source": [
        "Train the CNN model using k-fold cross-validation. **(10 marks)**\n",
        "\n",
        "---"
      ]
    },
    {
      "cell_type": "code",
      "execution_count": 40,
      "metadata": {
        "id": "xESPeCWnpJek"
      },
      "outputs": [
        {
          "name": "stdout",
          "output_type": "stream",
          "text": [
            "Epoch 1/20\n",
            "1500/1500 - 13s - loss: 0.5252 - accuracy: 0.8245 - val_loss: 0.4153 - val_accuracy: 0.8679 - 13s/epoch - 9ms/step\n",
            "Epoch 2/20\n",
            "1500/1500 - 12s - loss: 0.3652 - accuracy: 0.8802 - val_loss: 0.3462 - val_accuracy: 0.8905 - 12s/epoch - 8ms/step\n",
            "Epoch 3/20\n",
            "1500/1500 - 13s - loss: 0.3274 - accuracy: 0.8914 - val_loss: 0.3371 - val_accuracy: 0.8915 - 13s/epoch - 8ms/step\n",
            "Epoch 4/20\n",
            "1500/1500 - 12s - loss: 0.2997 - accuracy: 0.9008 - val_loss: 0.3164 - val_accuracy: 0.8972 - 12s/epoch - 8ms/step\n",
            "Epoch 5/20\n",
            "1500/1500 - 12s - loss: 0.2815 - accuracy: 0.9072 - val_loss: 0.3091 - val_accuracy: 0.9013 - 12s/epoch - 8ms/step\n",
            "Epoch 6/20\n",
            "1500/1500 - 13s - loss: 0.2632 - accuracy: 0.9149 - val_loss: 0.3013 - val_accuracy: 0.9028 - 13s/epoch - 9ms/step\n",
            "Epoch 7/20\n",
            "1500/1500 - 13s - loss: 0.2535 - accuracy: 0.9177 - val_loss: 0.2893 - val_accuracy: 0.9078 - 13s/epoch - 9ms/step\n",
            "Epoch 8/20\n",
            "1500/1500 - 13s - loss: 0.2389 - accuracy: 0.9241 - val_loss: 0.2887 - val_accuracy: 0.9072 - 13s/epoch - 8ms/step\n",
            "Epoch 9/20\n",
            "1500/1500 - 13s - loss: 0.2267 - accuracy: 0.9270 - val_loss: 0.2945 - val_accuracy: 0.9048 - 13s/epoch - 9ms/step\n",
            "Epoch 10/20\n",
            "1500/1500 - 13s - loss: 0.2173 - accuracy: 0.9304 - val_loss: 0.3024 - val_accuracy: 0.9068 - 13s/epoch - 8ms/step\n",
            "Epoch 11/20\n",
            "1500/1500 - 13s - loss: 0.2074 - accuracy: 0.9358 - val_loss: 0.3009 - val_accuracy: 0.9081 - 13s/epoch - 8ms/step\n",
            "Epoch 12/20\n",
            "1500/1500 - 13s - loss: 0.1975 - accuracy: 0.9400 - val_loss: 0.2883 - val_accuracy: 0.9139 - 13s/epoch - 9ms/step\n",
            "Epoch 13/20\n",
            "1500/1500 - 13s - loss: 0.1897 - accuracy: 0.9419 - val_loss: 0.3669 - val_accuracy: 0.8850 - 13s/epoch - 9ms/step\n",
            "Epoch 14/20\n",
            "1500/1500 - 13s - loss: 0.1821 - accuracy: 0.9461 - val_loss: 0.3150 - val_accuracy: 0.9075 - 13s/epoch - 8ms/step\n",
            "Epoch 15/20\n",
            "1500/1500 - 12s - loss: 0.1747 - accuracy: 0.9477 - val_loss: 0.3009 - val_accuracy: 0.9106 - 12s/epoch - 8ms/step\n",
            "Epoch 16/20\n",
            "1500/1500 - 12s - loss: 0.1657 - accuracy: 0.9513 - val_loss: 0.2961 - val_accuracy: 0.9146 - 12s/epoch - 8ms/step\n",
            "Epoch 17/20\n",
            "1500/1500 - 12s - loss: 0.1615 - accuracy: 0.9533 - val_loss: 0.3000 - val_accuracy: 0.9117 - 12s/epoch - 8ms/step\n",
            "Epoch 18/20\n",
            "1500/1500 - 13s - loss: 0.1540 - accuracy: 0.9566 - val_loss: 0.3137 - val_accuracy: 0.9118 - 13s/epoch - 8ms/step\n",
            "Epoch 19/20\n",
            "1500/1500 - 13s - loss: 0.1496 - accuracy: 0.9581 - val_loss: 0.3204 - val_accuracy: 0.9115 - 13s/epoch - 9ms/step\n",
            "Epoch 20/20\n",
            "1500/1500 - 12s - loss: 0.1410 - accuracy: 0.9612 - val_loss: 0.3420 - val_accuracy: 0.9077 - 12s/epoch - 8ms/step\n",
            "Score for fold 1: loss of 0.34198233485221863; accuracy of 90.76666831970215%\n",
            "Epoch 1/20\n",
            "1500/1500 - 10s - loss: 0.4614 - accuracy: 0.8448 - val_loss: 0.3569 - val_accuracy: 0.8840 - 10s/epoch - 7ms/step\n",
            "Epoch 2/20\n",
            "1500/1500 - 10s - loss: 0.3450 - accuracy: 0.8855 - val_loss: 0.3219 - val_accuracy: 0.8932 - 10s/epoch - 7ms/step\n",
            "Epoch 3/20\n",
            "1500/1500 - 10s - loss: 0.3093 - accuracy: 0.8972 - val_loss: 0.3300 - val_accuracy: 0.8903 - 10s/epoch - 7ms/step\n",
            "Epoch 4/20\n",
            "1500/1500 - 11s - loss: 0.2871 - accuracy: 0.9051 - val_loss: 0.3016 - val_accuracy: 0.9023 - 11s/epoch - 7ms/step\n",
            "Epoch 5/20\n",
            "1500/1500 - 11s - loss: 0.2713 - accuracy: 0.9107 - val_loss: 0.3698 - val_accuracy: 0.8755 - 11s/epoch - 7ms/step\n",
            "Epoch 6/20\n",
            "1500/1500 - 13s - loss: 0.2589 - accuracy: 0.9162 - val_loss: 0.2935 - val_accuracy: 0.9060 - 13s/epoch - 9ms/step\n",
            "Epoch 7/20\n",
            "1500/1500 - 10s - loss: 0.2452 - accuracy: 0.9208 - val_loss: 0.2896 - val_accuracy: 0.9057 - 10s/epoch - 7ms/step\n",
            "Epoch 8/20\n",
            "1500/1500 - 10s - loss: 0.2353 - accuracy: 0.9244 - val_loss: 0.2774 - val_accuracy: 0.9114 - 10s/epoch - 7ms/step\n",
            "Epoch 9/20\n",
            "1500/1500 - 12s - loss: 0.2264 - accuracy: 0.9282 - val_loss: 0.2791 - val_accuracy: 0.9135 - 12s/epoch - 8ms/step\n",
            "Epoch 10/20\n",
            "1500/1500 - 11s - loss: 0.2162 - accuracy: 0.9308 - val_loss: 0.2892 - val_accuracy: 0.9081 - 11s/epoch - 7ms/step\n",
            "Epoch 11/20\n",
            "1500/1500 - 11s - loss: 0.2078 - accuracy: 0.9348 - val_loss: 0.2863 - val_accuracy: 0.9106 - 11s/epoch - 7ms/step\n",
            "Epoch 12/20\n",
            "1500/1500 - 11s - loss: 0.1986 - accuracy: 0.9384 - val_loss: 0.2831 - val_accuracy: 0.9119 - 11s/epoch - 7ms/step\n",
            "Epoch 13/20\n",
            "1500/1500 - 10s - loss: 0.1928 - accuracy: 0.9389 - val_loss: 0.2825 - val_accuracy: 0.9095 - 10s/epoch - 7ms/step\n",
            "Epoch 14/20\n"
          ]
        }
      ],
      "source": [
        "# your code here\n",
        "# Prepare k-fold cross-validation\n",
        "FOLDS = 5 # The number of folds to use for k-fold cross-validation\n",
        "EPOCHS = 20 # The number of epochs to train for each fold\n",
        "VERBOSE = 2 # The verbosity level for the model\n",
        "OPTIMIZER = keras.optimizers.legacy.Adam()\n",
        "VALIDATION_SPLIT = 0.2 # The proportion of the training dataset to set aside as the validation set\n",
        "\n",
        "N_CLASSES = 10\n",
        "IMG_ROWS, IMG_COLS = 28, 28\n",
        "INPUT_SHAPE = (IMG_ROWS, IMG_COLS, 1)\n",
        "\n",
        "kfold = KFold(n_splits=FOLDS, shuffle=True)\n",
        "\n",
        "fold_num = 1\n",
        "acc_per_fold = []\n",
        "loss_per_fold = []\n",
        "histories = []\n",
        "\n",
        "for train, test in kfold.split(train_images, train_labels):\n",
        "    # Create model\n",
        "    model = CNN.create(shape=INPUT_SHAPE, classes=N_CLASSES, optimizer=OPTIMIZER)\n",
        "    \n",
        "    # Fit model\n",
        "    history = model.fit(train_images[train], train_labels[train], epochs=EPOCHS, validation_data=(train_images[test], train_labels[test]), verbose=VERBOSE)\n",
        "    histories.append(history)\n",
        "\n",
        "    # Generate generalization metrics\n",
        "    scores = model.evaluate(train_images[test], train_labels[test], verbose=0)\n",
        "    print(f'Score for fold {fold_num}: {model.metrics_names[0]} of {scores[0]}; {model.metrics_names[1]} of {scores[1]*100}%')\n",
        "    acc_per_fold.append(scores[1] * 100)\n",
        "    loss_per_fold.append(scores[0])\n",
        "    \n",
        "    fold_num += 1\n"
      ]
    },
    {
      "attachments": {},
      "cell_type": "markdown",
      "metadata": {
        "id": "FFMiFtDCpjMG"
      },
      "source": [
        "Evaluate your model in cross-validation. Calculate and print the loss and accuracy scores in each fold. Print the average cross-validation accuracy and loss your network achieved (in all folds). **(15 marks)**\n"
      ]
    },
    {
      "cell_type": "code",
      "execution_count": 35,
      "metadata": {
        "id": "WnCeV6qP6xmT"
      },
      "outputs": [
        {
          "name": "stdout",
          "output_type": "stream",
          "text": [
            "----------------------------------------------------------------\n",
            "Score per fold\n",
            "----------------------------------------------------------------\n",
            "> Fold 1 - Loss: 0.4106912314891815 - Accuracy: 85.958331823349%\n",
            "----------------------------------------------------------------\n",
            "> Fold 2 - Loss: 0.3769662380218506 - Accuracy: 87.65000104904175%\n",
            "----------------------------------------------------------------\n",
            "> Fold 3 - Loss: 0.35676684975624084 - Accuracy: 87.93333172798157%\n",
            "----------------------------------------------------------------\n",
            "> Fold 4 - Loss: 0.38720235228538513 - Accuracy: 87.05833554267883%\n",
            "----------------------------------------------------------------\n",
            "> Fold 5 - Loss: 0.3773060441017151 - Accuracy: 87.41666674613953%\n",
            "----------------------------------------------------------------\n",
            "Average scores for all folds:\n",
            "> Accuracy: 87.20333337783813 (+- 0.6854157816424508)\n",
            "> Loss: 0.3817865431308746\n",
            "----------------------------------------------------------------\n"
          ]
        }
      ],
      "source": [
        "# your code here\n",
        "# Print the average scores\n",
        "print('----------------------------------------------------------------')\n",
        "print('Score per fold')\n",
        "for i in range(0, len(acc_per_fold)):\n",
        "    print('----------------------------------------------------------------')\n",
        "    print(f'> Fold {i+1} - Loss: {loss_per_fold[i]} - Accuracy: {acc_per_fold[i]}%')\n",
        "print('----------------------------------------------------------------')\n",
        "print('Average scores for all folds:')\n",
        "print(f'> Accuracy: {np.mean(acc_per_fold)} (+- {np.std(acc_per_fold)})')\n",
        "print(f'> Loss: {np.mean(loss_per_fold)}')\n",
        "print('----------------------------------------------------------------')\n"
      ]
    },
    {
      "cell_type": "markdown",
      "metadata": {
        "id": "4GvX1moIqqm0"
      },
      "source": [
        "*your answer here*"
      ]
    },
    {
      "attachments": {},
      "cell_type": "markdown",
      "metadata": {
        "id": "S48e3kq_qCCi"
      },
      "source": [
        "Plot the final results (accuracy/loss) on the test set in each fold. **(10 marks)**\n",
        "\n",
        "---"
      ]
    },
    {
      "cell_type": "code",
      "execution_count": 34,
      "metadata": {
        "id": "DLLIrvy2psKZ"
      },
      "outputs": [
        {
          "name": "stdout",
          "output_type": "stream",
          "text": [
            "{'loss': [0.463677316904068], 'accuracy': [0.843458354473114], 'val_loss': [0.37730586528778076], 'val_accuracy': [0.8741666674613953]}\n"
          ]
        },
        {
          "data": {
            "image/png": "[encoded data removed]",
            "text/plain": [
              "<Figure size 1200x500 with 2 Axes>"
            ]
          },
          "metadata": {},
          "output_type": "display_data"
        }
      ],
      "source": [
        "# Plot the training and validation accuracy and loss for the last fold\n",
        "print(histories[-1].history)\n",
        "plt.figure(figsize=(12, 5))\n",
        "\n",
        "# Plotting accuracy for the last fold\n",
        "plt.subplot(1, 2, 1)\n",
        "plt.plot(histories[-1].history['accuracy'], label='Training Accuracy')\n",
        "plt.plot(histories[-1].history['val_accuracy'], label='Validation Accuracy')\n",
        "plt.title('Accuracy')\n",
        "plt.xlabel('Epoch')\n",
        "plt.ylabel('Accuracy')\n",
        "plt.legend()\n",
        "\n",
        "# Plotting loss for the last fold\n",
        "plt.subplot(1, 2, 2)\n",
        "plt.plot(histories[-1].history['loss'], label='Training Loss')\n",
        "plt.plot(histories[-1].history['val_loss'], label='Validation Loss')\n",
        "plt.title('Loss')\n",
        "plt.xlabel('Epoch')\n",
        "plt.ylabel('Loss')\n",
        "plt.legend()\n",
        "\n",
        "plt.show()\n"
      ]
    },
    {
      "cell_type": "markdown",
      "metadata": {
        "id": "ImI7busBrCie"
      },
      "source": [
        "Additional questions:\n",
        "\n",
        "\n",
        "*   Describe whether you found any differences in the network’s accuracy when applying regularisation compared to not applying it. If there were differences, which regularisation did you use? If no differences were found, what could be the reason? **(10 marks)**\n",
        "\n",
        "*your answer here*\n",
        "\n",
        "*   Write your conclusions about the results achieved with your model on the fashion MNIST dataset and ideas to improve these results/performance further. **(10 marks)**\n",
        "\n",
        "*your answer here*\n",
        "\n",
        "---\n",
        "\n"
      ]
    },
    {
      "cell_type": "markdown",
      "metadata": {
        "id": "EcSc_1JiqRA3"
      },
      "source": [
        "Additional remarks:\n",
        "\n",
        "*   Code outline appropriately commented. **(10 marks)**\n",
        "*   Code running without errors. **(10 marks)**\n",
        "\n",
        "---\n",
        "\n"
      ]
    }
  ],
  "metadata": {
    "colab": {
      "provenance": []
    },
    "kernelspec": {
      "display_name": "base",
      "language": "python",
      "name": "python3"
    },
    "language_info": {
      "codemirror_mode": {
        "name": "ipython",
        "version": 3
      },
      "file_extension": ".py",
      "mimetype": "text/x-python",
      "name": "python",
      "nbconvert_exporter": "python",
      "pygments_lexer": "ipython3",
      "version": "3.11.6"
    },
    "vscode": {
      "interpreter": {
        "hash": "d3e7af04d29b7c7f09156ce72bf463dad5c8b45a218773abf1ffb50277174388"
      }
    }
  },
  "nbformat": 4,
  "nbformat_minor": 0
}
